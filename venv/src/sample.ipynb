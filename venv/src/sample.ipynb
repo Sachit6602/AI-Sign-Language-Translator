{
 "cells": [
  {
   "cell_type": "markdown",
   "metadata": {},
   "source": [
    "DATA PRE-PROCESSING"
   ]
  },
  {
   "cell_type": "code",
   "execution_count": 1,
   "metadata": {},
   "outputs": [],
   "source": [
    "import cv2\n",
    "import numpy as np\n",
    "import os\n",
    "\n",
    "data_dir = \"C:/Users/sachi/Documents/aisign/venv/dataset\"\n",
    "image_size = (64, 64)\n",
    "X, y = [], []\n",
    "\n",
    "for label, sign in enumerate(os.listdir(data_dir)):\n",
    "    for img_name in os.listdir(os.path.join(data_dir, sign)):\n",
    "        img_path = os.path.join(data_dir, sign, img_name)\n",
    "        img = cv2.imread(img_path)\n",
    "        img = cv2.resize(img, image_size)\n",
    "        X.append(img)\n",
    "        y.append(label)\n",
    "\n",
    "X = np.array(X) / 255.0  # Normalize\n",
    "y = np.array(y)\n"
   ]
  },
  {
   "cell_type": "markdown",
   "metadata": {},
   "source": [
    "HAND LANDMARKS"
   ]
  },
  {
   "cell_type": "code",
   "execution_count": null,
   "metadata": {},
   "outputs": [],
   "source": [
    "import os\n",
    "import cv2\n",
    "import matplotlib.pyplot as plt\n",
    "\n",
    "# Define dataset path (adjust if needed)\n",
    "data_dir = os.path.abspath(\"C:/Users/sachi/Documents/aisign/venv/dataset\")  # Adjust this if needed\n",
    "class_folders = os.listdir(data_dir)\n",
    "\n",
    "# Select the first class folder (e.g., \"A\") and first image\n",
    "first_class = class_folders[0]  # Pick first label folder\n",
    "first_image_path = os.path.join(data_dir, first_class, os.listdir(os.path.join(data_dir, first_class))[0])\n",
    "\n",
    "# Load the image\n",
    "image = cv2.imread(first_image_path)  # Read the image\n",
    "image = cv2.cvtColor(image, cv2.COLOR_BGR2RGB)  # Convert from BGR to RGB for correct colors\n",
    "\n",
    "# Display the image\n",
    "plt.imshow(image)\n",
    "plt.axis(\"off\")\n",
    "plt.title(f\"Sample Image - {first_class}\")\n",
    "plt.show()\n"
   ]
  }
 ],
 "metadata": {
  "kernelspec": {
   "display_name": "venv",
   "language": "python",
   "name": "python3"
  },
  "language_info": {
   "codemirror_mode": {
    "name": "ipython",
    "version": 3
   },
   "file_extension": ".py",
   "mimetype": "text/x-python",
   "name": "python",
   "nbconvert_exporter": "python",
   "pygments_lexer": "ipython3",
   "version": "3.11.0"
  }
 },
 "nbformat": 4,
 "nbformat_minor": 2
}
