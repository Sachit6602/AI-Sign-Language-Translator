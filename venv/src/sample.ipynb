{
 "cells": [
  {
   "cell_type": "markdown",
   "metadata": {},
   "source": [
    "DATA PRE-PROCESSING"
   ]
  },
  {
   "cell_type": "code",
   "execution_count": 1,
   "metadata": {},
   "outputs": [],
   "source": [
    "import cv2\n",
    "import numpy as np\n",
    "import os\n",
    "\n",
    "data_dir = \"C:/Users/sachi/Documents/aisign/venv/dataset\"\n",
    "image_size = (64, 64)\n",
    "X, y = [], []\n",
    "\n",
    "for label, sign in enumerate(os.listdir(data_dir)):\n",
    "    for img_name in os.listdir(os.path.join(data_dir, sign)):\n",
    "        img_path = os.path.join(data_dir, sign, img_name)\n",
    "        img = cv2.imread(img_path)\n",
    "        img = cv2.resize(img, image_size)\n",
    "        X.append(img)\n",
    "        y.append(label)\n",
    "\n",
    "X = np.array(X) / 255.0  # Normalize\n",
    "y = np.array(y)\n"
   ]
  },
  {
   "cell_type": "markdown",
   "metadata": {},
   "source": [
    "HAND LANDMARKS"
   ]
  },
  {
   "cell_type": "code",
   "execution_count": 43,
   "metadata": {},
   "outputs": [],
   "source": [
    "import mediapipe as mp\n",
    "\n",
    "mp_hands = mp.solutions.hands\n",
    "hands = mp_hands.Hands(static_image_mode=False, max_num_hands=1, min_detection_confidence=0.7)\n",
    "\n",
    "def extract_hand_landmarks(image):\n",
    "    results = hands.process(image)\n",
    "    keypoints = []\n",
    "    if results.multi_hand_landmarks:\n",
    "        for hand in results.multi_hand_landmarks:\n",
    "            for point in hand.landmark:\n",
    "                keypoints.extend(point.x)\n",
    "                keypoints.extend(point.y)\n",
    "    \n",
    "    return keypoints\n"
   ]
  },
  {
   "cell_type": "code",
   "execution_count": 44,
   "metadata": {},
   "outputs": [
    {
     "name": "stdout",
     "output_type": "stream",
     "text": [
      "2.19.0\n"
     ]
    }
   ],
   "source": [
    "import tensorflow as tf\n",
    "print(tf.__version__)\n"
   ]
  },
  {
   "cell_type": "code",
   "execution_count": 47,
   "metadata": {},
   "outputs": [
    {
     "ename": "NameError",
     "evalue": "name 'x' is not defined",
     "output_type": "error",
     "traceback": [
      "\u001b[31m---------------------------------------------------------------------------\u001b[39m",
      "\u001b[31mNameError\u001b[39m                                 Traceback (most recent call last)",
      "\u001b[36mCell\u001b[39m\u001b[36m \u001b[39m\u001b[32mIn[47]\u001b[39m\u001b[32m, line 18\u001b[39m\n\u001b[32m      5\u001b[39m model = keras.Sequential([\n\u001b[32m      6\u001b[39m     layers.Conv2D(\u001b[32m32\u001b[39m, (\u001b[32m3\u001b[39m,\u001b[32m3\u001b[39m), activation=\u001b[33m'\u001b[39m\u001b[33mrelu\u001b[39m\u001b[33m'\u001b[39m, input_shape=(\u001b[32m64\u001b[39m, \u001b[32m64\u001b[39m, \u001b[32m3\u001b[39m)),\n\u001b[32m      7\u001b[39m     layers.MaxPooling2D((\u001b[32m2\u001b[39m,\u001b[32m2\u001b[39m)),\n\u001b[32m   (...)\u001b[39m\u001b[32m     14\u001b[39m     layers.Dense(\u001b[32m29\u001b[39m, activation=\u001b[33m'\u001b[39m\u001b[33msoftmax\u001b[39m\u001b[33m'\u001b[39m)  \n\u001b[32m     15\u001b[39m ])\n\u001b[32m     17\u001b[39m model.compile(optimizer=\u001b[33m'\u001b[39m\u001b[33madam\u001b[39m\u001b[33m'\u001b[39m, loss=\u001b[33m'\u001b[39m\u001b[33msparse_categorical_crossentropy\u001b[39m\u001b[33m'\u001b[39m, metrics=[\u001b[33m'\u001b[39m\u001b[33maccuracy\u001b[39m\u001b[33m'\u001b[39m])\n\u001b[32m---> \u001b[39m\u001b[32m18\u001b[39m model.fit(\u001b[43mx\u001b[49m, y, epochs=\u001b[32m10\u001b[39m, validation_split=\u001b[32m0.2\u001b[39m)\n\u001b[32m     19\u001b[39m model.save(\u001b[33m\"\u001b[39m\u001b[33mai_sign_model.h5\u001b[39m\u001b[33m\"\u001b[39m)\n",
      "\u001b[31mNameError\u001b[39m: name 'x' is not defined"
     ]
    }
   ],
   "source": [
    "import tensorflow as tf\n",
    "from tensorflow import keras\n",
    "from tensorflow.keras import layers\n",
    "\n",
    "model = keras.Sequential([\n",
    "    layers.Conv2D(32, (3,3), activation='relu', input_shape=(64, 64, 3)),\n",
    "    layers.MaxPooling2D((2,2)),\n",
    "    layers.Conv2D(64, (3,3), activation='relu'),\n",
    "    layers.MaxPooling2D((2,2)),\n",
    "    layers.Conv2D(128, (3,3), activation='relu'),\n",
    "    layers.MaxPooling2D((2,2)),\n",
    "    layers.Flatten(),\n",
    "    layers.Dense(128, activation='relu'),\n",
    "    layers.Dense(29, activation='softmax')  \n",
    "])\n",
    "\n",
    "model.compile(optimizer='adam', loss='sparse_categorical_crossentropy', metrics=['accuracy'])\n",
    "model.fit(x, y, epochs=10, validation_split=0.2)\n",
    "model.save(\"ai_sign_model.h5\")"
   ]
  },
  {
   "cell_type": "code",
   "execution_count": null,
   "metadata": {},
   "outputs": [],
   "source": []
  }
 ],
 "metadata": {
  "kernelspec": {
   "display_name": "venv",
   "language": "python",
   "name": "python3"
  },
  "language_info": {
   "codemirror_mode": {
    "name": "ipython",
    "version": 3
   },
   "file_extension": ".py",
   "mimetype": "text/x-python",
   "name": "python",
   "nbconvert_exporter": "python",
   "pygments_lexer": "ipython3",
   "version": "3.11.0"
  }
 },
 "nbformat": 4,
 "nbformat_minor": 2
}
